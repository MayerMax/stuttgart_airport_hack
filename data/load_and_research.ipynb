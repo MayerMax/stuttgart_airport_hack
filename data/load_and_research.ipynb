{
 "cells": [
  {
   "cell_type": "code",
   "execution_count": 1,
   "metadata": {},
   "outputs": [],
   "source": [
    "import requests\n",
    "import json"
   ]
  },
  {
   "cell_type": "code",
   "execution_count": 2,
   "metadata": {},
   "outputs": [],
   "source": [
    "from elasticsearch import Elasticsearch, helpers\n",
    "es = Elasticsearch()"
   ]
  },
  {
   "cell_type": "code",
   "execution_count": 234,
   "metadata": {},
   "outputs": [
    {
     "data": {
      "text/plain": [
       "{'_id': 'AHkvem0Bc9kOhXEH-aXY',\n",
       " '_index': 'collection-index',\n",
       " '_score': 4.158221,\n",
       " '_source': {'about_author': {'name': 'Рембрандт Харменс ван Рейн'},\n",
       "  'annotation': '<p>В ГМИИ с 1924 г. из ГМФ. (1930&ndash;1936 Антиквариат). Ранее &ndash; в конце XIX в. в собр. Г.А. Брокара, Москва; после 1900 г. в собр. П.К. Жиро, Москва; с 1918 г. в ГМФ.</p><p>Живопись двадцатилетнего художника еще старательна и тяжеловесна, краски жесткие и пестрые, композиция не лишена ошибок, но уже в этом произведении проявилась тяга Рембрандта к изображению волнующих&nbsp; событий и сильных чувств: Христос изгоняет из храма одержимых корыстью торговцев, обманщиков и стяжателей.</p>',\n",
       "  'art_name': 'Изгнание торгующих из храма',\n",
       "  'audioguide': 'empty',\n",
       "  'building': '116',\n",
       "  'cast': '0',\n",
       "  'country': 'Голландия',\n",
       "  'department': '76',\n",
       "  'from': 'Государственный Музейный Фонд',\n",
       "  'get_year': 'empty',\n",
       "  'graphics_type': 'empty',\n",
       "  'hall': '195',\n",
       "  'img': '/data/fonds/europe_and_america/j/0000_1000/zh_1900/5596_foto_1_01.jpg',\n",
       "  'material': 'дерево, масло',\n",
       "  'period_text': {'en': '1626', 'ru': '1626'},\n",
       "  'show_in_collection': 1,\n",
       "  'show_in_hall': '1',\n",
       "  'size': {'en': '43х32 см', 'ru': '43х32 см'},\n",
       "  'text': '',\n",
       "  'type': 'Живопись',\n",
       "  'year': 1626},\n",
       " '_type': 'people'}"
      ]
     },
     "execution_count": 234,
     "metadata": {},
     "output_type": "execute_result"
    }
   ],
   "source": [
    "es.search(index='collection-index', body= {\n",
    "    \"query\": {\n",
    "        \"match\" : {\n",
    "            \"material\" : {\n",
    "                \"query\" : \"кто такой рембрандт\",\n",
    "                \"fuzziness\" : '2',\n",
    "#                 'operator' : 'or',\n",
    "#                 'zero_terms_query':  'all'\n",
    "            }\n",
    "        }\n",
    "    }\n",
    "})['hits']['hits'][0]"
   ]
  },
  {
   "cell_type": "code",
   "execution_count": 109,
   "metadata": {},
   "outputs": [
    {
     "data": {
      "text/plain": [
       "{'_id': 'NXnbdm0Bc9kOhXEHKYEt',\n",
       " '_index': 'collection-index',\n",
       " '_score': 1.5475609,\n",
       " '_source': {'about_author': {'name': 'Альфред Де Дре'},\n",
       "  'annotation': 'empty',\n",
       "  'audioguide': 'empty',\n",
       "  'building': 'empty',\n",
       "  'cast': '0',\n",
       "  'country': 'Франция',\n",
       "  'department': 'empty',\n",
       "  'from': 'empty',\n",
       "  'get_year': 'empty',\n",
       "  'graphics_type': 'empty',\n",
       "  'hall': 'empty',\n",
       "  'material': 'холст, масло',\n",
       "  'name': 'Восточный всадник со слугой',\n",
       "  'period_text': {'en': 'Первая половина XIX века',\n",
       "   'ru': 'Первая половина XIX века'},\n",
       "  'show_in_collection': 1,\n",
       "  'show_in_hall': 0,\n",
       "  'size': {'en': '65,5х81  см.', 'ru': '65,5х81  см.'},\n",
       "  'text': '',\n",
       "  'type': 'Живопись',\n",
       "  'year': 0},\n",
       " '_type': 'people'}"
      ]
     },
     "execution_count": 109,
     "metadata": {},
     "output_type": "execute_result"
    }
   ],
   "source": [
    "es.search(index='collection-index', body= {\n",
    "    \"query\": {\n",
    "        \"match\" : {\n",
    "            \"a\" : {\n",
    "                \"query\" : \"где посмотреть работы Дюрера\",\n",
    "                \"fuzziness\" : 'AUTO',\n",
    "#                 'operator' : 'and',\n",
    "                'zero_terms_query':  'all'\n",
    "            }\n",
    "        }\n",
    "    }\n",
    "})['hits']['hits'][0]"
   ]
  },
  {
   "cell_type": "code",
   "execution_count": 3,
   "metadata": {},
   "outputs": [
    {
     "data": {
      "text/plain": [
       "{'acknowledged': True}"
      ]
     },
     "execution_count": 3,
     "metadata": {},
     "output_type": "execute_result"
    }
   ],
   "source": [
    "es.indices.delete(index='event-index', ignore=[400, 404])"
   ]
  }
 ],
 "metadata": {
  "kernelspec": {
   "display_name": "Python 3",
   "language": "python",
   "name": "python3"
  },
  "language_info": {
   "codemirror_mode": {
    "name": "ipython",
    "version": 3
   },
   "file_extension": ".py",
   "mimetype": "text/x-python",
   "name": "python",
   "nbconvert_exporter": "python",
   "pygments_lexer": "ipython3",
   "version": "3.6.2"
  }
 },
 "nbformat": 4,
 "nbformat_minor": 2
}
